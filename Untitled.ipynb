{
 "cells": [
  {
   "cell_type": "code",
   "execution_count": 56,
   "id": "bf3df729-0a0d-45d0-a0bf-30612f36d0c0",
   "metadata": {
    "scrolled": true
   },
   "outputs": [
    {
     "name": "stdout",
     "output_type": "stream",
     "text": [
      "                                                Title    Price Availability Rating\n",
      "0                                A Light in the Attic  Â£51.77     In stock  Three\n",
      "1                                  Tipping the Velvet  Â£53.74     In stock    One\n",
      "2                                          Soumission  Â£50.10     In stock    One\n",
      "3                                       Sharp Objects  Â£47.82     In stock   Four\n",
      "4               Sapiens: A Brief History of Humankind  Â£54.23     In stock   Five\n",
      "5                                     The Requiem Red  Â£22.65     In stock    One\n",
      "6   The Dirty Little Secrets of Getting Your Dream...  Â£33.34     In stock   Four\n",
      "7   The Coming Woman: A Novel Based on the Life of...  Â£17.93     In stock  Three\n",
      "8   The Boys in the Boat: Nine Americans and Their...  Â£22.60     In stock   Four\n",
      "9                                     The Black Maria  Â£52.15     In stock    One\n",
      "10     Starving Hearts (Triangular Trade Trilogy, #1)  Â£13.99     In stock    Two\n",
      "11                              Shakespeare's Sonnets  Â£20.66     In stock   Four\n",
      "12                                        Set Me Free  Â£17.46     In stock   Five\n",
      "13  Scott Pilgrim's Precious Little Life (Scott Pi...  Â£52.29     In stock   Five\n",
      "14                          Rip it Up and Start Again  Â£35.02     In stock   Five\n",
      "15  Our Band Could Be Your Life: Scenes from the A...  Â£57.25     In stock  Three\n",
      "16                                               Olio  Â£23.88     In stock    One\n",
      "17  Mesaerion: The Best Science Fiction Stories 18...  Â£37.59     In stock    One\n",
      "18                       Libertarianism for Beginners  Â£51.33     In stock    Two\n",
      "19                            It's Only the Himalayas  Â£45.17     In stock    Two\n",
      "20                                        In Her Wake  Â£12.84     In stock    One\n",
      "21                                    How Music Works  Â£37.32     In stock    Two\n",
      "22  Foolproof Preserving: A Guide to Small Batch J...  Â£30.52     In stock  Three\n",
      "23                         Chase Me (Paris Nights #2)  Â£25.27     In stock   Five\n",
      "24                                         Black Dust  Â£34.53     In stock   Five\n",
      "25                      Birdsong: A Story in Pictures  Â£54.64     In stock  Three\n",
      "26  America's Cradle of Quarterbacks: Western Penn...  Â£22.50     In stock  Three\n",
      "27                     Aladdin and His Wonderful Lamp  Â£53.13     In stock  Three\n",
      "28  Worlds Elsewhere: Journeys Around Shakespeareâ...  Â£40.30     In stock   Five\n",
      "29                                     Wall and Piece  Â£44.18     In stock   Four\n",
      "30  The Four Agreements: A Practical Guide to Pers...  Â£17.66     In stock   Five\n",
      "31  The Five Love Languages: How to Express Heartf...  Â£31.05     In stock  Three\n",
      "32                                  The Elephant Tree  Â£23.82     In stock   Five\n",
      "33                             The Bear and the Piano  Â£36.89     In stock    One\n",
      "34                                     Sophie's World  Â£15.94     In stock   Five\n",
      "35                                        Penny Maybe  Â£33.29     In stock  Three\n",
      "36     Maude (1883-1993):She Grew Up with the country  Â£18.02     In stock    Two\n",
      "37                               In a Dark, Dark Wood  Â£19.63     In stock    One\n",
      "38                                Behind Closed Doors  Â£52.22     In stock   Four\n",
      "39                     You can't bury them all: Poems  Â£33.63     In stock    Two\n",
      "40                     Slow States of Collapse: Poems  Â£57.31     In stock  Three\n",
      "41                              Reasons to Stay Alive  Â£26.41     In stock    Two\n",
      "42                        Private Paris (Private #10)  Â£47.61     In stock   Five\n",
      "43  #HigherSelfie: Wake Up Your Life. Free Your So...  Â£23.11     In stock   Five\n",
      "44                    Without Borders (Wanderlove #1)  Â£45.07     In stock    Two\n",
      "45                                   When We Collided  Â£31.77     In stock    One\n",
      "46                       We Love You, Charlie Freeman  Â£50.27     In stock   Five\n",
      "47            Untitled Collection: Sabbath Poems 2014  Â£14.27     In stock   Four\n",
      "48  Unseen City: The Majesty of Pigeons, the Discr...  Â£44.18     In stock   Four\n",
      "49                                     Unicorn Tracks  Â£18.78     In stock  Three\n",
      "50  Unbound: How Eight Technologies Made Us Human,...  Â£25.52     In stock    One\n",
      "51  Tsubasa: WoRLD CHRoNiCLE 2 (Tsubasa WoRLD CHRo...  Â£16.28     In stock    One\n",
      "52  Throwing Rocks at the Google Bus: How Growth B...  Â£31.12     In stock  Three\n",
      "53                                    This One Summer  Â£19.49     In stock   Four\n",
      "54                                             Thirst  Â£17.27     In stock   Five\n",
      "55        The Torch Is Passed: A Harding Family Story  Â£19.09     In stock    One\n",
      "56                    The Secret of Dreadwillow Carse  Â£56.13     In stock    One\n",
      "57  The Pioneer Woman Cooks: Dinnertime: Comfort C...  Â£56.41     In stock    One\n",
      "58                                The Past Never Ends  Â£56.50     In stock   Four\n",
      "59  The Natural History of Us (The Fine Art of Pre...  Â£45.22     In stock  Three\n"
     ]
    }
   ],
   "source": [
    "def main():\n",
    "    import pandas as pd\n",
    "    from bs4 import BeautifulSoup\n",
    "    import requests\n",
    "\n",
    "    data = []\n",
    "\n",
    "    for page_num in range(1, 4):\n",
    "        url = f\"http://books.toscrape.com/catalogue/page-{page_num}.html\"\n",
    "        res = requests.get(url)\n",
    "        soup = BeautifulSoup(res.text, 'html.parser')\n",
    "\n",
    "        books = soup.find_all('article', class_='product_pod')\n",
    "        for book in books:\n",
    "            title = book.h3.a['title']\n",
    "            price = book.find('p', class_='price_color').text\n",
    "            availability = book.find('p', class_='instock availability').text.strip()\n",
    "            rating = book.find('p', class_='star-rating')['class'][1]\n",
    "            data.append([title, price, availability, rating])\n",
    "\n",
    "    df = pd.DataFrame(data, columns=['Title', 'Price', 'Availability', 'Rating'])\n",
    "    df.to_csv(\"books.csv\", index=False)\n",
    "    print(df)\n",
    "\n",
    "\n",
    "if __name__ == \"__main__\":\n",
    "    main()\n"
   ]
  },
  {
   "cell_type": "code",
   "execution_count": null,
   "id": "a037cd29-82c5-4492-8b7e-794650c8e905",
   "metadata": {},
   "outputs": [],
   "source": []
  }
 ],
 "metadata": {
  "kernelspec": {
   "display_name": "Python 3 (ipykernel)",
   "language": "python",
   "name": "python3"
  },
  "language_info": {
   "codemirror_mode": {
    "name": "ipython",
    "version": 3
   },
   "file_extension": ".py",
   "mimetype": "text/x-python",
   "name": "python",
   "nbconvert_exporter": "python",
   "pygments_lexer": "ipython3",
   "version": "3.12.3"
  }
 },
 "nbformat": 4,
 "nbformat_minor": 5
}
